{
  "nbformat": 4,
  "nbformat_minor": 0,
  "metadata": {
    "colab": {
      "provenance": [],
      "collapsed_sections": []
    },
    "kernelspec": {
      "name": "python3",
      "display_name": "Python 3"
    },
    "language_info": {
      "name": "python"
    }
  },
  "cells": [
    {
      "cell_type": "code",
      "execution_count": 60,
      "metadata": {
        "id": "aaw_9YHIw6Be"
      },
      "outputs": [],
      "source": [
        "import numpy as np\n",
        "import matplotlib.pyplot as plt \n",
        "from mpl_toolkits import mplot3d\n",
        "from sklearn import datasets\n",
        "from sklearn.model_selection import train_test_split"
      ]
    },
    {
      "cell_type": "code",
      "source": [
        "# import the Iris data set\n",
        "\n",
        "iris = datasets.load_iris()\n",
        "X = iris.data\n",
        "Y = iris.target"
      ],
      "metadata": {
        "id": "_y52ogenx60U"
      },
      "execution_count": 61,
      "outputs": []
    },
    {
      "cell_type": "code",
      "source": [
        "# set up some stuff for the plots\n",
        "\n",
        "Xzeros0 = (0. * X) + .2\n",
        "Xzeros1 = (0. * X) \n",
        "Xzeros2 = (0. * X) - .2\n",
        "\n",
        "x_min, x_max = X.min() - 0.5, X.max() + 1.5"
      ],
      "metadata": {
        "id": "Wm1N0ZDWyCC2"
      },
      "execution_count": 62,
      "outputs": []
    },
    {
      "cell_type": "code",
      "source": [
        "# show the data\n",
        "\n",
        "for i in range (len(Y)):\n",
        "    print (i, X[i,:],Y[i])"
      ],
      "metadata": {
        "colab": {
          "base_uri": "https://localhost:8080/"
        },
        "id": "0BW8ZbrGyMBT",
        "outputId": "e6ffb9f9-bb75-4f68-a4b6-d856c2f7ebdb"
      },
      "execution_count": 63,
      "outputs": [
        {
          "output_type": "stream",
          "name": "stdout",
          "text": [
            "0 [5.1 3.5 1.4 0.2] 0\n",
            "1 [4.9 3.  1.4 0.2] 0\n",
            "2 [4.7 3.2 1.3 0.2] 0\n",
            "3 [4.6 3.1 1.5 0.2] 0\n",
            "4 [5.  3.6 1.4 0.2] 0\n",
            "5 [5.4 3.9 1.7 0.4] 0\n",
            "6 [4.6 3.4 1.4 0.3] 0\n",
            "7 [5.  3.4 1.5 0.2] 0\n",
            "8 [4.4 2.9 1.4 0.2] 0\n",
            "9 [4.9 3.1 1.5 0.1] 0\n",
            "10 [5.4 3.7 1.5 0.2] 0\n",
            "11 [4.8 3.4 1.6 0.2] 0\n",
            "12 [4.8 3.  1.4 0.1] 0\n",
            "13 [4.3 3.  1.1 0.1] 0\n",
            "14 [5.8 4.  1.2 0.2] 0\n",
            "15 [5.7 4.4 1.5 0.4] 0\n",
            "16 [5.4 3.9 1.3 0.4] 0\n",
            "17 [5.1 3.5 1.4 0.3] 0\n",
            "18 [5.7 3.8 1.7 0.3] 0\n",
            "19 [5.1 3.8 1.5 0.3] 0\n",
            "20 [5.4 3.4 1.7 0.2] 0\n",
            "21 [5.1 3.7 1.5 0.4] 0\n",
            "22 [4.6 3.6 1.  0.2] 0\n",
            "23 [5.1 3.3 1.7 0.5] 0\n",
            "24 [4.8 3.4 1.9 0.2] 0\n",
            "25 [5.  3.  1.6 0.2] 0\n",
            "26 [5.  3.4 1.6 0.4] 0\n",
            "27 [5.2 3.5 1.5 0.2] 0\n",
            "28 [5.2 3.4 1.4 0.2] 0\n",
            "29 [4.7 3.2 1.6 0.2] 0\n",
            "30 [4.8 3.1 1.6 0.2] 0\n",
            "31 [5.4 3.4 1.5 0.4] 0\n",
            "32 [5.2 4.1 1.5 0.1] 0\n",
            "33 [5.5 4.2 1.4 0.2] 0\n",
            "34 [4.9 3.1 1.5 0.2] 0\n",
            "35 [5.  3.2 1.2 0.2] 0\n",
            "36 [5.5 3.5 1.3 0.2] 0\n",
            "37 [4.9 3.6 1.4 0.1] 0\n",
            "38 [4.4 3.  1.3 0.2] 0\n",
            "39 [5.1 3.4 1.5 0.2] 0\n",
            "40 [5.  3.5 1.3 0.3] 0\n",
            "41 [4.5 2.3 1.3 0.3] 0\n",
            "42 [4.4 3.2 1.3 0.2] 0\n",
            "43 [5.  3.5 1.6 0.6] 0\n",
            "44 [5.1 3.8 1.9 0.4] 0\n",
            "45 [4.8 3.  1.4 0.3] 0\n",
            "46 [5.1 3.8 1.6 0.2] 0\n",
            "47 [4.6 3.2 1.4 0.2] 0\n",
            "48 [5.3 3.7 1.5 0.2] 0\n",
            "49 [5.  3.3 1.4 0.2] 0\n",
            "50 [7.  3.2 4.7 1.4] 1\n",
            "51 [6.4 3.2 4.5 1.5] 1\n",
            "52 [6.9 3.1 4.9 1.5] 1\n",
            "53 [5.5 2.3 4.  1.3] 1\n",
            "54 [6.5 2.8 4.6 1.5] 1\n",
            "55 [5.7 2.8 4.5 1.3] 1\n",
            "56 [6.3 3.3 4.7 1.6] 1\n",
            "57 [4.9 2.4 3.3 1. ] 1\n",
            "58 [6.6 2.9 4.6 1.3] 1\n",
            "59 [5.2 2.7 3.9 1.4] 1\n",
            "60 [5.  2.  3.5 1. ] 1\n",
            "61 [5.9 3.  4.2 1.5] 1\n",
            "62 [6.  2.2 4.  1. ] 1\n",
            "63 [6.1 2.9 4.7 1.4] 1\n",
            "64 [5.6 2.9 3.6 1.3] 1\n",
            "65 [6.7 3.1 4.4 1.4] 1\n",
            "66 [5.6 3.  4.5 1.5] 1\n",
            "67 [5.8 2.7 4.1 1. ] 1\n",
            "68 [6.2 2.2 4.5 1.5] 1\n",
            "69 [5.6 2.5 3.9 1.1] 1\n",
            "70 [5.9 3.2 4.8 1.8] 1\n",
            "71 [6.1 2.8 4.  1.3] 1\n",
            "72 [6.3 2.5 4.9 1.5] 1\n",
            "73 [6.1 2.8 4.7 1.2] 1\n",
            "74 [6.4 2.9 4.3 1.3] 1\n",
            "75 [6.6 3.  4.4 1.4] 1\n",
            "76 [6.8 2.8 4.8 1.4] 1\n",
            "77 [6.7 3.  5.  1.7] 1\n",
            "78 [6.  2.9 4.5 1.5] 1\n",
            "79 [5.7 2.6 3.5 1. ] 1\n",
            "80 [5.5 2.4 3.8 1.1] 1\n",
            "81 [5.5 2.4 3.7 1. ] 1\n",
            "82 [5.8 2.7 3.9 1.2] 1\n",
            "83 [6.  2.7 5.1 1.6] 1\n",
            "84 [5.4 3.  4.5 1.5] 1\n",
            "85 [6.  3.4 4.5 1.6] 1\n",
            "86 [6.7 3.1 4.7 1.5] 1\n",
            "87 [6.3 2.3 4.4 1.3] 1\n",
            "88 [5.6 3.  4.1 1.3] 1\n",
            "89 [5.5 2.5 4.  1.3] 1\n",
            "90 [5.5 2.6 4.4 1.2] 1\n",
            "91 [6.1 3.  4.6 1.4] 1\n",
            "92 [5.8 2.6 4.  1.2] 1\n",
            "93 [5.  2.3 3.3 1. ] 1\n",
            "94 [5.6 2.7 4.2 1.3] 1\n",
            "95 [5.7 3.  4.2 1.2] 1\n",
            "96 [5.7 2.9 4.2 1.3] 1\n",
            "97 [6.2 2.9 4.3 1.3] 1\n",
            "98 [5.1 2.5 3.  1.1] 1\n",
            "99 [5.7 2.8 4.1 1.3] 1\n",
            "100 [6.3 3.3 6.  2.5] 2\n",
            "101 [5.8 2.7 5.1 1.9] 2\n",
            "102 [7.1 3.  5.9 2.1] 2\n",
            "103 [6.3 2.9 5.6 1.8] 2\n",
            "104 [6.5 3.  5.8 2.2] 2\n",
            "105 [7.6 3.  6.6 2.1] 2\n",
            "106 [4.9 2.5 4.5 1.7] 2\n",
            "107 [7.3 2.9 6.3 1.8] 2\n",
            "108 [6.7 2.5 5.8 1.8] 2\n",
            "109 [7.2 3.6 6.1 2.5] 2\n",
            "110 [6.5 3.2 5.1 2. ] 2\n",
            "111 [6.4 2.7 5.3 1.9] 2\n",
            "112 [6.8 3.  5.5 2.1] 2\n",
            "113 [5.7 2.5 5.  2. ] 2\n",
            "114 [5.8 2.8 5.1 2.4] 2\n",
            "115 [6.4 3.2 5.3 2.3] 2\n",
            "116 [6.5 3.  5.5 1.8] 2\n",
            "117 [7.7 3.8 6.7 2.2] 2\n",
            "118 [7.7 2.6 6.9 2.3] 2\n",
            "119 [6.  2.2 5.  1.5] 2\n",
            "120 [6.9 3.2 5.7 2.3] 2\n",
            "121 [5.6 2.8 4.9 2. ] 2\n",
            "122 [7.7 2.8 6.7 2. ] 2\n",
            "123 [6.3 2.7 4.9 1.8] 2\n",
            "124 [6.7 3.3 5.7 2.1] 2\n",
            "125 [7.2 3.2 6.  1.8] 2\n",
            "126 [6.2 2.8 4.8 1.8] 2\n",
            "127 [6.1 3.  4.9 1.8] 2\n",
            "128 [6.4 2.8 5.6 2.1] 2\n",
            "129 [7.2 3.  5.8 1.6] 2\n",
            "130 [7.4 2.8 6.1 1.9] 2\n",
            "131 [7.9 3.8 6.4 2. ] 2\n",
            "132 [6.4 2.8 5.6 2.2] 2\n",
            "133 [6.3 2.8 5.1 1.5] 2\n",
            "134 [6.1 2.6 5.6 1.4] 2\n",
            "135 [7.7 3.  6.1 2.3] 2\n",
            "136 [6.3 3.4 5.6 2.4] 2\n",
            "137 [6.4 3.1 5.5 1.8] 2\n",
            "138 [6.  3.  4.8 1.8] 2\n",
            "139 [6.9 3.1 5.4 2.1] 2\n",
            "140 [6.7 3.1 5.6 2.4] 2\n",
            "141 [6.9 3.1 5.1 2.3] 2\n",
            "142 [5.8 2.7 5.1 1.9] 2\n",
            "143 [6.8 3.2 5.9 2.3] 2\n",
            "144 [6.7 3.3 5.7 2.5] 2\n",
            "145 [6.7 3.  5.2 2.3] 2\n",
            "146 [6.3 2.5 5.  1.9] 2\n",
            "147 [6.5 3.  5.2 2. ] 2\n",
            "148 [6.2 3.4 5.4 2.3] 2\n",
            "149 [5.9 3.  5.1 1.8] 2\n"
          ]
        }
      ]
    },
    {
      "cell_type": "code",
      "source": [
        "# get Iris classifications\n",
        "\n",
        "IC = np.unique(Y)\n",
        "IrisC = ('Setosa','Versicolor','Virginica')\n",
        "pltC = ('red', 'blue', 'green')\n",
        "pltCback = ('pink', 'lightblue','lightgreen')\n",
        "pltM = ('o', 'x', '*')\n",
        "for i in range(0,3):\n",
        "    print (IC[i],pltM[i],IrisC[i],pltC[i],pltCback[i])"
      ],
      "metadata": {
        "colab": {
          "base_uri": "https://localhost:8080/"
        },
        "id": "bd3qug2KyTKR",
        "outputId": "c96fa1d5-2cda-40a8-ae8c-9fc285b8cd03"
      },
      "execution_count": 64,
      "outputs": [
        {
          "output_type": "stream",
          "name": "stdout",
          "text": [
            "0 o Setosa red pink\n",
            "1 x Versicolor blue lightblue\n",
            "2 * Virginica green lightgreen\n"
          ]
        }
      ]
    },
    {
      "cell_type": "code",
      "source": [
        "# setup Iris feature lablels\n",
        "\n",
        "IrisF=(\"sepal length (cm)\", \"sepal width (cm)\", \"petal length (cm)\", \"petal width (cm)\")\n",
        "for i in range(0,4):\n",
        "    print(IrisF[i])\n"
      ],
      "metadata": {
        "colab": {
          "base_uri": "https://localhost:8080/"
        },
        "id": "MKNGiLhEydy8",
        "outputId": "8b900b1e-5515-4eb3-a52c-9f3be3eae26b"
      },
      "execution_count": 65,
      "outputs": [
        {
          "output_type": "stream",
          "name": "stdout",
          "text": [
            "sepal length (cm)\n",
            "sepal width (cm)\n",
            "petal length (cm)\n",
            "petal width (cm)\n"
          ]
        }
      ]
    },
    {
      "cell_type": "code",
      "source": [
        "# plot data for all pairs of features \n",
        "\n",
        "plt.close('all')\n",
        "fig, ax = plt.subplots(nrows=3, ncols=2, figsize= (8,12), sharex=True, sharey=True)\n",
        "\n",
        "i = 0\n",
        "k = 0\n",
        "k1 = 0\n",
        "k2 = 0\n",
        "while i < 4:\n",
        "    x2F = IrisF[i]\n",
        "    j = 0\n",
        "    while j < i:\n",
        "        k1 = np.int(k/2)\n",
        "        k2 = np.mod(k,2)\n",
        "        x1F = IrisF[j]\n",
        "        ax[k1,k2].scatter(X[Y == IC[0], j], X[Y == IC[0], i], \n",
        "                          color=pltC[0], marker=pltM[0], label=IrisC[0])\n",
        "        ax[k1,k2].scatter(X[Y == IC[1], j], X[Y == IC[1], i], \n",
        "                          color=pltC[1], marker=pltM[1], label=IrisC[1])\n",
        "        ax[k1,k2].scatter(X[Y == IC[2], j], X[Y == IC[2], i], \n",
        "                          color=pltC[2], marker=pltM[2], label=IrisC[2])\n",
        "        ax[k1,k2].set(aspect='equal')\n",
        "        ax[k1,k2].set_xlim(x_min,x_max)\n",
        "        ax[k1,k2].set_ylim(x_min,x_max)\n",
        "        ax[k1,k2].set_xlabel(x1F)\n",
        "        ax[k1,k2].set_ylabel(x2F)\n",
        "        ax[k1,k2].legend(loc='upper right', fontsize='x-small')\n",
        "        j += 1\n",
        "        k += 1\n",
        "    i += 1\n",
        "plt.show()    "
      ],
      "metadata": {
        "colab": {
          "base_uri": "https://localhost:8080/",
          "height": 786
        },
        "id": "_ZDtWiRqyqWL",
        "outputId": "7ba7b3bb-b487-4842-e0b0-f9a0e93719a6"
      },
      "execution_count": 66,
      "outputs": [
        {
          "output_type": "stream",
          "name": "stderr",
          "text": [
            "/usr/local/lib/python3.7/dist-packages/ipykernel_launcher.py:14: DeprecationWarning: `np.int` is a deprecated alias for the builtin `int`. To silence this warning, use `int` by itself. Doing this will not modify any behavior and is safe. When replacing `np.int`, you may wish to use e.g. `np.int64` or `np.int32` to specify the precision. If you wish to review your current use, check the release note link for additional information.\n",
            "Deprecated in NumPy 1.20; for more details and guidance: https://numpy.org/devdocs/release/1.20.0-notes.html#deprecations\n",
            "  \n"
          ]
        },
        {
          "output_type": "display_data",
          "data": {
            "text/plain": [
              "<Figure size 576x864 with 6 Axes>"
            ],
            "image/png": "[encoded data removed]"
          },
          "metadata": {
            "needs_background": "light"
          }
        }
      ]
    },
    {
      "cell_type": "code",
      "source": [
        "# choose the classes and features to be included in the model\n",
        "\n",
        "cdx = np.array([0,1,2])             # this array contains the classes to be considered includes 3 class which are 0, 1, and 2\n",
        "fdx = np.array([0,1])           # this array contains the features to be considered includes 2 features which are 0 and 1\n",
        "\n",
        "nC = len(cdx)\n",
        "nF = len(fdx)\n",
        "\n",
        "print ('\\nClasses')\n",
        "for i in range(nC):\n",
        "    print (cdx[i],IrisC[cdx[i]])\n",
        "    \n",
        "print ('\\nFeatures')\n",
        "for i in range(nF):\n",
        "    print (fdx[i],IrisF[fdx[i]])"
      ],
      "metadata": {
        "colab": {
          "base_uri": "https://localhost:8080/"
        },
        "id": "IoYI5CrLDCYl",
        "outputId": "c0ab57d8-5dc9-4bd5-90a0-f93fadf6f0de"
      },
      "execution_count": 67,
      "outputs": [
        {
          "output_type": "stream",
          "name": "stdout",
          "text": [
            "\n",
            "Classes\n",
            "0 Setosa\n",
            "1 Versicolor\n",
            "2 Virginica\n",
            "\n",
            "Features\n",
            "0 sepal length (cm)\n",
            "1 sepal width (cm)\n"
          ]
        }
      ]
    },
    {
      "cell_type": "code",
      "source": [
        "# build the XX and YY arrays\n",
        "# these arrays contain the samples in the classes specified in cdx and include the features specified in fdx\n",
        "#import the values of cdx and fdx in the array\n",
        "i = 0\n",
        "numY = 0\n",
        "for i in range(len(Y)):\n",
        "    for j in range(nC):\n",
        "        if Y[i] == IC[cdx[j]]:\n",
        "            numY += 1\n",
        "\n",
        "YY = np.zeros((numY))\n",
        "XX = np.zeros((numY,nF))\n",
        "if (len(fdx) == 1):\n",
        "    XXzeros0 = (0. * XX) + .2\n",
        "    XXzeros1 = (0. * XX) \n",
        "    XXzeros2 = (0. * XX) - .2\n",
        "\n",
        "j = 0\n",
        "for i in range(len(Y)):\n",
        "    for k in range(nC):\n",
        "        if Y[i] == IC[cdx[k]]:        \n",
        "            YY[j] = IC[cdx[k]]\n",
        "            for m in range(nF):\n",
        "                XX[j,m] = X[i,fdx[m]] \n",
        "            j += 1"
      ],
      "metadata": {
        "id": "4vyDs2mYYFnJ"
      },
      "execution_count": 68,
      "outputs": []
    },
    {
      "cell_type": "code",
      "source": [
        "import tensorflow as tf\n",
        "from keras import models\n",
        "from keras import layers\n",
        "import tensorflow_probability as tfp\n",
        "import matplotlib.pyplot as plt\n",
        "%matplotlib inline\n",
        "from sklearn.model_selection import train_test_split"
      ],
      "metadata": {
        "id": "v-3cBZUFDOFF"
      },
      "execution_count": 69,
      "outputs": []
    },
    {
      "cell_type": "code",
      "source": [
        "# set up test size and train parameters\n",
        "X_train, X_test, y_train, y_test = train_test_split(XX, YY, test_size=0.25, random_state=42)"
      ],
      "metadata": {
        "id": "vFiHtsdoCBGD"
      },
      "execution_count": 70,
      "outputs": []
    },
    {
      "cell_type": "code",
      "source": [
        "# prepare the label data\n",
        "#  change from categorical labels to one-hot-encoded labels\n",
        "from keras.utils import np_utils\n",
        "y_train = np_utils.to_categorical(y_train,num_classes=3)\n",
        "y_test=np_utils.to_categorical(y_test,num_classes=3)"
      ],
      "metadata": {
        "id": "dJSNJUZiFeR8"
      },
      "execution_count": 71,
      "outputs": []
    },
    {
      "cell_type": "code",
      "source": [
        "# setup network architecture\n",
        "# dense hidden layer\n",
        "model = models.Sequential()\n",
        "model.add(layers.Dense(100, activation='relu',  input_shape=(2,))) # 2 input shape is used\n",
        "model.add(layers.Dense(50, activation='relu'))\n",
        "model.add(layers.Dense(50, activation='relu'))\n",
        "model.add(layers.Dense(3, activation='sigmoid'))\n",
        "model.compile(optimizer='rmsprop',\n",
        "                loss='categorical_crossentropy',\n",
        "                metrics=['accuracy','categorical_crossentropy']) #optimizer is rmsprop because it seems to work better\n",
        "batch_size = 200\n",
        "epochs = 10\n",
        "\n",
        "print ('using dense network with batch size of ', batch_size)\n",
        "\n",
        "model.summary()"
      ],
      "metadata": {
        "colab": {
          "base_uri": "https://localhost:8080/"
        },
        "id": "Q_lIapUb45pM",
        "outputId": "7efb37bb-fbc9-4372-81df-9120182082c1"
      },
      "execution_count": 72,
      "outputs": [
        {
          "output_type": "stream",
          "name": "stdout",
          "text": [
            "using dense network with batch size of  200\n",
            "Model: \"sequential_3\"\n",
            "_________________________________________________________________\n",
            " Layer (type)                Output Shape              Param #   \n",
            "=================================================================\n",
            " dense_12 (Dense)            (None, 100)               300       \n",
            "                                                                 \n",
            " dense_13 (Dense)            (None, 50)                5050      \n",
            "                                                                 \n",
            " dense_14 (Dense)            (None, 50)                2550      \n",
            "                                                                 \n",
            " dense_15 (Dense)            (None, 3)                 153       \n",
            "                                                                 \n",
            "=================================================================\n",
            "Total params: 8,053\n",
            "Trainable params: 8,053\n",
            "Non-trainable params: 0\n",
            "_________________________________________________________________\n"
          ]
        }
      ]
    },
    {
      "cell_type": "code",
      "source": [
        "# train the network\n",
        "history = model.fit(X_train,y_train,validation_data=(X_test,y_test),batch_size=batch_size,epochs=epochs,verbose=1)"
      ],
      "metadata": {
        "id": "JB7SBmwf5ukG",
        "colab": {
          "base_uri": "https://localhost:8080/"
        },
        "outputId": "21bcee9c-0c0b-48b5-a1aa-6e31c069cc59"
      },
      "execution_count": 73,
      "outputs": [
        {
          "output_type": "stream",
          "name": "stdout",
          "text": [
            "Epoch 1/10\n",
            "1/1 [==============================] - 1s 1s/step - loss: 1.0878 - accuracy: 0.3393 - categorical_crossentropy: 1.0878 - val_loss: 1.0803 - val_accuracy: 0.2895 - val_categorical_crossentropy: 1.0803\n",
            "Epoch 2/10\n",
            "1/1 [==============================] - 0s 36ms/step - loss: 1.0717 - accuracy: 0.3482 - categorical_crossentropy: 1.0717 - val_loss: 1.0649 - val_accuracy: 0.3158 - val_categorical_crossentropy: 1.0649\n",
            "Epoch 3/10\n",
            "1/1 [==============================] - 0s 37ms/step - loss: 1.0615 - accuracy: 0.3393 - categorical_crossentropy: 1.0615 - val_loss: 1.0503 - val_accuracy: 0.3947 - val_categorical_crossentropy: 1.0503\n",
            "Epoch 4/10\n",
            "1/1 [==============================] - 0s 55ms/step - loss: 1.0428 - accuracy: 0.4375 - categorical_crossentropy: 1.0428 - val_loss: 1.0182 - val_accuracy: 0.4474 - val_categorical_crossentropy: 1.0182\n",
            "Epoch 5/10\n",
            "1/1 [==============================] - 0s 39ms/step - loss: 1.0219 - accuracy: 0.4821 - categorical_crossentropy: 1.0219 - val_loss: 1.0135 - val_accuracy: 0.4737 - val_categorical_crossentropy: 1.0135\n",
            "Epoch 6/10\n",
            "1/1 [==============================] - 0s 38ms/step - loss: 1.0060 - accuracy: 0.5625 - categorical_crossentropy: 1.0060 - val_loss: 0.9796 - val_accuracy: 0.7105 - val_categorical_crossentropy: 0.9796\n",
            "Epoch 7/10\n",
            "1/1 [==============================] - 0s 52ms/step - loss: 0.9896 - accuracy: 0.6339 - categorical_crossentropy: 0.9896 - val_loss: 0.9766 - val_accuracy: 0.5526 - val_categorical_crossentropy: 0.9766\n",
            "Epoch 8/10\n",
            "1/1 [==============================] - 0s 68ms/step - loss: 0.9760 - accuracy: 0.6429 - categorical_crossentropy: 0.9760 - val_loss: 0.9498 - val_accuracy: 0.7105 - val_categorical_crossentropy: 0.9498\n",
            "Epoch 9/10\n",
            "1/1 [==============================] - 0s 26ms/step - loss: 0.9624 - accuracy: 0.6429 - categorical_crossentropy: 0.9624 - val_loss: 0.9473 - val_accuracy: 0.6842 - val_categorical_crossentropy: 0.9473\n",
            "Epoch 10/10\n",
            "1/1 [==============================] - 0s 31ms/step - loss: 0.9500 - accuracy: 0.6250 - categorical_crossentropy: 0.9500 - val_loss: 0.9177 - val_accuracy: 0.7105 - val_categorical_crossentropy: 0.9177\n"
          ]
        }
      ]
    },
    {
      "cell_type": "code",
      "source": [
        "print('\\nhistory dict:', history.history)"
      ],
      "metadata": {
        "id": "Es77U644hqfA",
        "colab": {
          "base_uri": "https://localhost:8080/"
        },
        "outputId": "5af77ba9-6c23-44ff-b487-6176a5b4a08b"
      },
      "execution_count": 74,
      "outputs": [
        {
          "output_type": "stream",
          "name": "stdout",
          "text": [
            "\n",
            "history dict: {'loss': [1.0877888202667236, 1.0716503858566284, 1.0615170001983643, 1.0427793264389038, 1.0219476222991943, 1.0060434341430664, 0.9895657300949097, 0.9759548902511597, 0.9623985290527344, 0.9500191807746887], 'accuracy': [0.3392857015132904, 0.3482142984867096, 0.3392857015132904, 0.4375, 0.4821428656578064, 0.5625, 0.6339285969734192, 0.6428571343421936, 0.6428571343421936, 0.625], 'categorical_crossentropy': [1.0877888202667236, 1.0716503858566284, 1.0615170001983643, 1.0427793264389038, 1.0219476222991943, 1.0060434341430664, 0.9895657300949097, 0.9759548902511597, 0.9623985290527344, 0.9500191807746887], 'val_loss': [1.0802704095840454, 1.0649008750915527, 1.0503493547439575, 1.0181996822357178, 1.0135102272033691, 0.979644775390625, 0.9766389727592468, 0.9498072266578674, 0.9472527503967285, 0.917665958404541], 'val_accuracy': [0.28947368264198303, 0.31578946113586426, 0.3947368562221527, 0.44736841320991516, 0.4736842215061188, 0.7105262875556946, 0.5526315569877625, 0.7105262875556946, 0.6842105388641357, 0.7105262875556946], 'val_categorical_crossentropy': [1.0802704095840454, 1.0649008750915527, 1.0503493547439575, 1.0181996822357178, 1.0135102272033691, 0.979644775390625, 0.9766389727592468, 0.9498072266578674, 0.9472527503967285, 0.917665958404541]}\n"
          ]
        }
      ]
    },
    {
      "cell_type": "code",
      "source": [
        "# plot loss \n",
        "plt.figure(figsize=(8,8))\n",
        "plt.plot(history.history['loss'], label='training categorical cross-entropy', color='blue')\n",
        "plt.plot(history.history['val_loss'], label='validation categorical cross-entropy', color='red')\n",
        "plt.title('Loss by Epoch')\n",
        "plt.xlabel('Epoch')\n",
        "plt.ylabel('Loss')\n",
        "#plt.ylim([0.0, .3])\n",
        "plt.legend(loc='upper right')"
      ],
      "metadata": {
        "colab": {
          "base_uri": "https://localhost:8080/",
          "height": 530
        },
        "id": "BdLqN_APkLt-",
        "outputId": "71b9f3b1-9d02-4859-ec19-06cc615fbd77"
      },
      "execution_count": 75,
      "outputs": [
        {
          "output_type": "execute_result",
          "data": {
            "text/plain": [
              "<matplotlib.legend.Legend at 0x7fdcace49c10>"
            ]
          },
          "metadata": {},
          "execution_count": 75
        },
        {
          "output_type": "display_data",
          "data": {
            "text/plain": [
              "<Figure size 576x576 with 1 Axes>"
            ],
            "image/png": "[encoded data removed]"
          },
          "metadata": {
            "needs_background": "light"
          }
        }
      ]
    },
    {
      "cell_type": "code",
      "source": [
        "#plot accuracy\n",
        "plt.figure(figsize=(8,8))\n",
        "plt.plot(history.history['accuracy'], label='training accuracy',color='blue')\n",
        "plt.plot(history.history['val_accuracy'], label = 'validation accuracy',color='red')\n",
        "plt.title('Accuracy by Epoch')\n",
        "plt.xlabel('Epoch')\n",
        "plt.ylabel('Accuracy')\n",
        "#plt.ylim([0.9, 1.])\n",
        "plt.legend(loc='lower right')"
      ],
      "metadata": {
        "colab": {
          "base_uri": "https://localhost:8080/",
          "height": 530
        },
        "id": "xLxO8zNwkbTt",
        "outputId": "7970e6a6-3672-4d4e-c33b-6df83222ea2e"
      },
      "execution_count": 76,
      "outputs": [
        {
          "output_type": "execute_result",
          "data": {
            "text/plain": [
              "<matplotlib.legend.Legend at 0x7fdcabd59410>"
            ]
          },
          "metadata": {},
          "execution_count": 76
        },
        {
          "output_type": "display_data",
          "data": {
            "text/plain": [
              "<Figure size 576x576 with 1 Axes>"
            ],
            "image/png": "[encoded data removed]"
          },
          "metadata": {
            "needs_background": "light"
          }
        }
      ]
    },
    {
      "cell_type": "code",
      "source": [
        "#print out the loss and accuracy score\n",
        "test_evaluation = model.evaluate(X_test, y_test)\n",
        "test_loss = test_evaluation[0]\n",
        "test_acc = test_evaluation[1]\n",
        "\n",
        "print ('\\ntest loss: ',test_loss)\n",
        "print ('test acc:  ', test_acc)"
      ],
      "metadata": {
        "id": "T3AzUTOVGOUD",
        "colab": {
          "base_uri": "https://localhost:8080/"
        },
        "outputId": "d9cc3e2e-3e9d-4bb2-fba2-d14e3aff1cac"
      },
      "execution_count": 77,
      "outputs": [
        {
          "output_type": "stream",
          "name": "stdout",
          "text": [
            "2/2 [==============================] - 0s 4ms/step - loss: 0.9177 - accuracy: 0.7105 - categorical_crossentropy: 0.9177\n",
            "\n",
            "test loss:  0.917665958404541\n",
            "test acc:   0.7105262875556946\n"
          ]
        }
      ]
    },
    {
      "cell_type": "code",
      "source": [
        "# For this assignment neural network is used to predict the sample of the classes by implementing tensorflow. So I implemented the features sepal length and sepal width to predict the\n",
        "# three classes Setosa, Versicolor, Virginica. First I decided to implement the sepal length and sepal width into XX and YY. Then they are trained where the test size is 25% and\n",
        "# train size is 75%. And then the data is labeled and changed to one-hot-encoded labels. After that the neural network architecture is set up and had to make sure it works when\n",
        "# the network is going to be trained. After the train network prints out the score, then dictionary is used to put the information there. After that plot the accuracy and the loss of the\n",
        "# data. From what is plotted print out the accuracy and loss score. For the accuracy I got 71% whereas loss is 92%. Compared to SVM linear is 82% accuracy. This shows that neural network is\n",
        "# not much accurate at predicting the classes compared to SVM linear. This might mean the data was not properly labeled for neural network to predict accurately or it is harder to do so in\n",
        "# a graph based on how they are placed. "
      ],
      "metadata": {
        "id": "vsrMf-HqR9eK"
      },
      "execution_count": 78,
      "outputs": []
    }
  ]
}